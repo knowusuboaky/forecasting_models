{
 "cells": [
  {
   "cell_type": "markdown",
   "metadata": {},
   "source": [
    "# Random Forest Example"
   ]
  },
  {
   "cell_type": "markdown",
   "metadata": {},
   "source": [
    "## Installation"
   ]
  },
  {
   "cell_type": "markdown",
   "metadata": {},
   "source": [
    "### Package"
   ]
  },
  {
   "cell_type": "code",
   "execution_count": 3,
   "metadata": {},
   "outputs": [],
   "source": [
    "## Install Library\n",
    "#pip install forecasting-models https://pypi.org/project/forecasting-models/"
   ]
  },
  {
   "cell_type": "code",
   "execution_count": 2,
   "metadata": {},
   "outputs": [],
   "source": [
    "## Load up Library\n",
    "from forecasting_models import generateRandomForestForecast"
   ]
  },
  {
   "cell_type": "markdown",
   "metadata": {},
   "source": [
    "\n",
    "### Data Exploration"
   ]
  },
  {
   "cell_type": "code",
   "execution_count": 3,
   "metadata": {},
   "outputs": [],
   "source": [
    "## Sample Data\n",
    "\n",
    "import pandas as pd\n",
    "import numpy as np\n",
    "\n",
    "df = pd.read_csv('./data/PJME_hourly.csv')\n"
   ]
  },
  {
   "cell_type": "code",
   "execution_count": 4,
   "metadata": {},
   "outputs": [
    {
     "data": {
      "text/html": [
       "<div>\n",
       "<style scoped>\n",
       "    .dataframe tbody tr th:only-of-type {\n",
       "        vertical-align: middle;\n",
       "    }\n",
       "\n",
       "    .dataframe tbody tr th {\n",
       "        vertical-align: top;\n",
       "    }\n",
       "\n",
       "    .dataframe thead th {\n",
       "        text-align: right;\n",
       "    }\n",
       "</style>\n",
       "<table border=\"1\" class=\"dataframe\">\n",
       "  <thead>\n",
       "    <tr style=\"text-align: right;\">\n",
       "      <th></th>\n",
       "      <th>Datetime</th>\n",
       "      <th>PJME_MW</th>\n",
       "    </tr>\n",
       "  </thead>\n",
       "  <tbody>\n",
       "    <tr>\n",
       "      <th>0</th>\n",
       "      <td>2002-12-31 01:00:00</td>\n",
       "      <td>26498.0</td>\n",
       "    </tr>\n",
       "    <tr>\n",
       "      <th>1</th>\n",
       "      <td>2002-12-31 02:00:00</td>\n",
       "      <td>25147.0</td>\n",
       "    </tr>\n",
       "    <tr>\n",
       "      <th>2</th>\n",
       "      <td>2002-12-31 03:00:00</td>\n",
       "      <td>24574.0</td>\n",
       "    </tr>\n",
       "    <tr>\n",
       "      <th>3</th>\n",
       "      <td>2002-12-31 04:00:00</td>\n",
       "      <td>24393.0</td>\n",
       "    </tr>\n",
       "    <tr>\n",
       "      <th>4</th>\n",
       "      <td>2002-12-31 05:00:00</td>\n",
       "      <td>24860.0</td>\n",
       "    </tr>\n",
       "    <tr>\n",
       "      <th>5</th>\n",
       "      <td>2002-12-31 06:00:00</td>\n",
       "      <td>26222.0</td>\n",
       "    </tr>\n",
       "    <tr>\n",
       "      <th>6</th>\n",
       "      <td>2002-12-31 07:00:00</td>\n",
       "      <td>28702.0</td>\n",
       "    </tr>\n",
       "    <tr>\n",
       "      <th>7</th>\n",
       "      <td>2002-12-31 08:00:00</td>\n",
       "      <td>30698.0</td>\n",
       "    </tr>\n",
       "    <tr>\n",
       "      <th>8</th>\n",
       "      <td>2002-12-31 09:00:00</td>\n",
       "      <td>31800.0</td>\n",
       "    </tr>\n",
       "    <tr>\n",
       "      <th>9</th>\n",
       "      <td>2002-12-31 10:00:00</td>\n",
       "      <td>32359.0</td>\n",
       "    </tr>\n",
       "  </tbody>\n",
       "</table>\n",
       "</div>"
      ],
      "text/plain": [
       "              Datetime  PJME_MW\n",
       "0  2002-12-31 01:00:00  26498.0\n",
       "1  2002-12-31 02:00:00  25147.0\n",
       "2  2002-12-31 03:00:00  24574.0\n",
       "3  2002-12-31 04:00:00  24393.0\n",
       "4  2002-12-31 05:00:00  24860.0\n",
       "5  2002-12-31 06:00:00  26222.0\n",
       "6  2002-12-31 07:00:00  28702.0\n",
       "7  2002-12-31 08:00:00  30698.0\n",
       "8  2002-12-31 09:00:00  31800.0\n",
       "9  2002-12-31 10:00:00  32359.0"
      ]
     },
     "execution_count": 4,
     "metadata": {},
     "output_type": "execute_result"
    }
   ],
   "source": [
    "## Top rows of data\n",
    "df.head(10)"
   ]
  },
  {
   "cell_type": "code",
   "execution_count": 5,
   "metadata": {},
   "outputs": [
    {
     "data": {
      "text/plain": [
       "Datetime    2018-08-03 00:00:00\n",
       "PJME_MW                 62009.0\n",
       "dtype: object"
      ]
     },
     "execution_count": 5,
     "metadata": {},
     "output_type": "execute_result"
    }
   ],
   "source": [
    "## Last date of data\n",
    "df.max()"
   ]
  },
  {
   "cell_type": "markdown",
   "metadata": {},
   "source": [
    "### Format of Code"
   ]
  },
  {
   "cell_type": "raw",
   "metadata": {},
   "source": [
    "forecast table, metrics = generateRandomForestForecast(\n",
    "    data,                      # The DataFrame containing your time series data.\n",
    "    date,                      # The name of the column in 'data' that contains the time component.\n",
    "    value,                     # The name of the column in 'data' that contains the value to forecast.\n",
    "    group=None,                # Optional: A tuple for filtering data by a certain group (column name, value).\n",
    "    forecast_horizon=365,      # Optional: Number of periods to forecast into the future.\n",
    "    frequency='D',             # Optional: Frequency of the time series data ('D' for daily, etc.).\n",
    "    train_size=0.8,            # Optional: Proportion of data to use for training (e.g., 0.8 for 80%).\n",
    "    make_stationary_flag=False,# Optional: Whether to apply differencing to make the series stationary.\n",
    "    remove_seasonality_flag=False, # Optional: Whether to remove seasonality from the time series.\n",
    "    hyperparameters=None,      # Optional: A dictionary of hyperparameters for the XGBoost model.\n",
    "    confidence_level=0.95      # Optional: Confidence level for the prediction intervals.\n",
    ")\n",
    "\n",
    "\n",
    "Also, \n",
    "\n",
    "custom_hyperparameters = {\n",
    "    'n_estimators': 200,       # The number of trees in the forest. More trees generally improve the model's performance but increase computational cost and time.\n",
    "    'max_depth': 20,           # The maximum depth of each tree. Limits how deep each tree can grow. Deeper trees can model more complex patterns but may lead to overfitting.\n",
    "    'min_samples_split': 5,    # The minimum number of samples required to split an internal node. Higher values prevent the model from creating nodes that only fit a small number of observations, aiding in generalization.\n",
    "    'min_samples_leaf': 2,     # The minimum number of samples required to be at a leaf node. Like min_samples_split, larger values help in preventing the model from learning the data too specifically (overfitting).\n",
    "    'max_features': 'auto',    # The number of features to consider when looking for the best split. 'auto' uses all features. Reducing this number can lead to better performance by adding diversity to the trees.\n",
    "    'bootstrap': True,         # Whether or not bootstrap sampling is used. If True, each tree is trained on a random subset of the data. This introduces more diversity among the trees and helps in reducing overfitting.\n",
    "    'random_state': 42         # Sets a seed for the random number generator. This ensures that the results are reproducible. Different seeds can lead to slightly different results due to the randomness in tree building.\n",
    "}\n",
    "\n",
    "forecast table, metrics = generateRandomForestForecast(\n",
    "    data,\n",
    "    date,\n",
    "    value,\n",
    "    hyperparameters=custom_hyperparameters\n",
    "    # other parameters...\n",
    ")\n"
   ]
  },
  {
   "cell_type": "code",
   "execution_count": 8,
   "metadata": {},
   "outputs": [],
   "source": [
    "### Example usage"
   ]
  },
  {
   "cell_type": "code",
   "execution_count": 6,
   "metadata": {},
   "outputs": [
    {
     "name": "stdout",
     "output_type": "stream",
     "text": [
      "INFO: The time series is stationary. Model results might be reliable.\n",
      "INFO: Significant seasonality detected in the time series data.\n"
     ]
    }
   ],
   "source": [
    "# Example usage\n",
    "# Assuming 'df' is your DataFrame, 'date' is the name of your date column, and 'value' is the name of your value column\n",
    "forecast_table, metrics = generateRandomForestForecast(df, 'Datetime', 'PJME_MW', forecast_horizon=24*7, \n",
    "                                                  frequency='H', train_size=0.8, confidence_level=0.95, \n",
    "                                                  make_stationary_flag=False, remove_seasonality_flag=False)"
   ]
  },
  {
   "cell_type": "code",
   "execution_count": 7,
   "metadata": {},
   "outputs": [
    {
     "data": {
      "text/html": [
       "<div>\n",
       "<style scoped>\n",
       "    .dataframe tbody tr th:only-of-type {\n",
       "        vertical-align: middle;\n",
       "    }\n",
       "\n",
       "    .dataframe tbody tr th {\n",
       "        vertical-align: top;\n",
       "    }\n",
       "\n",
       "    .dataframe thead th {\n",
       "        text-align: right;\n",
       "    }\n",
       "</style>\n",
       "<table border=\"1\" class=\"dataframe\">\n",
       "  <thead>\n",
       "    <tr style=\"text-align: right;\">\n",
       "      <th></th>\n",
       "      <th>Date</th>\n",
       "      <th>Forecast</th>\n",
       "      <th>Lower_Bound</th>\n",
       "      <th>Upper_Bound</th>\n",
       "    </tr>\n",
       "  </thead>\n",
       "  <tbody>\n",
       "    <tr>\n",
       "      <th>0</th>\n",
       "      <td>2018-08-03 01:00:00</td>\n",
       "      <td>39316.899851</td>\n",
       "      <td>34436.841996</td>\n",
       "      <td>45220.993548</td>\n",
       "    </tr>\n",
       "    <tr>\n",
       "      <th>1</th>\n",
       "      <td>2018-08-03 02:00:00</td>\n",
       "      <td>39148.584090</td>\n",
       "      <td>34268.526236</td>\n",
       "      <td>45052.677787</td>\n",
       "    </tr>\n",
       "    <tr>\n",
       "      <th>2</th>\n",
       "      <td>2018-08-03 03:00:00</td>\n",
       "      <td>39144.539638</td>\n",
       "      <td>34264.481784</td>\n",
       "      <td>45048.633335</td>\n",
       "    </tr>\n",
       "    <tr>\n",
       "      <th>3</th>\n",
       "      <td>2018-08-03 04:00:00</td>\n",
       "      <td>39128.056739</td>\n",
       "      <td>34247.998885</td>\n",
       "      <td>45032.150436</td>\n",
       "    </tr>\n",
       "    <tr>\n",
       "      <th>4</th>\n",
       "      <td>2018-08-03 05:00:00</td>\n",
       "      <td>39137.446032</td>\n",
       "      <td>34257.388178</td>\n",
       "      <td>45041.539730</td>\n",
       "    </tr>\n",
       "    <tr>\n",
       "      <th>...</th>\n",
       "      <td>...</td>\n",
       "      <td>...</td>\n",
       "      <td>...</td>\n",
       "      <td>...</td>\n",
       "    </tr>\n",
       "    <tr>\n",
       "      <th>163</th>\n",
       "      <td>2018-08-09 20:00:00</td>\n",
       "      <td>30499.766948</td>\n",
       "      <td>25619.709094</td>\n",
       "      <td>36403.860645</td>\n",
       "    </tr>\n",
       "    <tr>\n",
       "      <th>164</th>\n",
       "      <td>2018-08-09 21:00:00</td>\n",
       "      <td>30499.766948</td>\n",
       "      <td>25619.709094</td>\n",
       "      <td>36403.860645</td>\n",
       "    </tr>\n",
       "    <tr>\n",
       "      <th>165</th>\n",
       "      <td>2018-08-09 22:00:00</td>\n",
       "      <td>30499.766948</td>\n",
       "      <td>25619.709094</td>\n",
       "      <td>36403.860645</td>\n",
       "    </tr>\n",
       "    <tr>\n",
       "      <th>166</th>\n",
       "      <td>2018-08-09 23:00:00</td>\n",
       "      <td>30499.766948</td>\n",
       "      <td>25619.709094</td>\n",
       "      <td>36403.860645</td>\n",
       "    </tr>\n",
       "    <tr>\n",
       "      <th>167</th>\n",
       "      <td>2018-08-10 00:00:00</td>\n",
       "      <td>29027.484283</td>\n",
       "      <td>24147.426429</td>\n",
       "      <td>34931.577980</td>\n",
       "    </tr>\n",
       "  </tbody>\n",
       "</table>\n",
       "<p>168 rows × 4 columns</p>\n",
       "</div>"
      ],
      "text/plain": [
       "                   Date      Forecast   Lower_Bound   Upper_Bound\n",
       "0   2018-08-03 01:00:00  39316.899851  34436.841996  45220.993548\n",
       "1   2018-08-03 02:00:00  39148.584090  34268.526236  45052.677787\n",
       "2   2018-08-03 03:00:00  39144.539638  34264.481784  45048.633335\n",
       "3   2018-08-03 04:00:00  39128.056739  34247.998885  45032.150436\n",
       "4   2018-08-03 05:00:00  39137.446032  34257.388178  45041.539730\n",
       "..                  ...           ...           ...           ...\n",
       "163 2018-08-09 20:00:00  30499.766948  25619.709094  36403.860645\n",
       "164 2018-08-09 21:00:00  30499.766948  25619.709094  36403.860645\n",
       "165 2018-08-09 22:00:00  30499.766948  25619.709094  36403.860645\n",
       "166 2018-08-09 23:00:00  30499.766948  25619.709094  36403.860645\n",
       "167 2018-08-10 00:00:00  29027.484283  24147.426429  34931.577980\n",
       "\n",
       "[168 rows x 4 columns]"
      ]
     },
     "execution_count": 7,
     "metadata": {},
     "output_type": "execute_result"
    }
   ],
   "source": [
    "forecast_table"
   ]
  },
  {
   "cell_type": "code",
   "execution_count": 8,
   "metadata": {},
   "outputs": [
    {
     "data": {
      "text/html": [
       "<div>\n",
       "<style scoped>\n",
       "    .dataframe tbody tr th:only-of-type {\n",
       "        vertical-align: middle;\n",
       "    }\n",
       "\n",
       "    .dataframe tbody tr th {\n",
       "        vertical-align: top;\n",
       "    }\n",
       "\n",
       "    .dataframe thead th {\n",
       "        text-align: right;\n",
       "    }\n",
       "</style>\n",
       "<table border=\"1\" class=\"dataframe\">\n",
       "  <thead>\n",
       "    <tr style=\"text-align: right;\">\n",
       "      <th></th>\n",
       "      <th>Model Metrics</th>\n",
       "      <th>Performance</th>\n",
       "    </tr>\n",
       "  </thead>\n",
       "  <tbody>\n",
       "    <tr>\n",
       "      <th>0</th>\n",
       "      <td>RMSE</td>\n",
       "      <td>2621.101316</td>\n",
       "    </tr>\n",
       "    <tr>\n",
       "      <th>1</th>\n",
       "      <td>MAE</td>\n",
       "      <td>1956.997102</td>\n",
       "    </tr>\n",
       "    <tr>\n",
       "      <th>2</th>\n",
       "      <td>MAPE</td>\n",
       "      <td>6.154298</td>\n",
       "    </tr>\n",
       "  </tbody>\n",
       "</table>\n",
       "</div>"
      ],
      "text/plain": [
       "  Model Metrics  Performance\n",
       "0          RMSE  2621.101316\n",
       "1           MAE  1956.997102\n",
       "2          MAPE     6.154298"
      ]
     },
     "execution_count": 8,
     "metadata": {},
     "output_type": "execute_result"
    }
   ],
   "source": [
    "metrics"
   ]
  }
 ],
 "metadata": {
  "kernelspec": {
   "display_name": "Python 3",
   "language": "python",
   "name": "python3"
  },
  "language_info": {
   "codemirror_mode": {
    "name": "ipython",
    "version": 3
   },
   "file_extension": ".py",
   "mimetype": "text/x-python",
   "name": "python",
   "nbconvert_exporter": "python",
   "pygments_lexer": "ipython3",
   "version": "3.12.0"
  }
 },
 "nbformat": 4,
 "nbformat_minor": 2
}
