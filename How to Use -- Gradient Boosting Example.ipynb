{
 "cells": [
  {
   "cell_type": "markdown",
   "metadata": {},
   "source": [
    "# Gradient Boosting Example"
   ]
  },
  {
   "cell_type": "markdown",
   "metadata": {},
   "source": [
    "## Installation"
   ]
  },
  {
   "cell_type": "markdown",
   "metadata": {},
   "source": [
    "### Package"
   ]
  },
  {
   "cell_type": "code",
   "execution_count": 3,
   "metadata": {},
   "outputs": [],
   "source": [
    "## Install Library\n",
    "#pip install forecasting-models https://pypi.org/project/forecasting-models/"
   ]
  },
  {
   "cell_type": "code",
   "execution_count": 3,
   "metadata": {},
   "outputs": [],
   "source": [
    "## Load up Library\n",
    "from forecasting_models import generateGradientBoostingForecast"
   ]
  },
  {
   "cell_type": "markdown",
   "metadata": {},
   "source": [
    "\n",
    "### Data Exploration"
   ]
  },
  {
   "cell_type": "code",
   "execution_count": 2,
   "metadata": {},
   "outputs": [],
   "source": [
    "## Sample Data\n",
    "\n",
    "import pandas as pd\n",
    "import numpy as np\n",
    "\n",
    "df = pd.read_csv('./data/PJME_hourly.csv')\n"
   ]
  },
  {
   "cell_type": "code",
   "execution_count": 4,
   "metadata": {},
   "outputs": [
    {
     "data": {
      "text/html": [
       "<div>\n",
       "<style scoped>\n",
       "    .dataframe tbody tr th:only-of-type {\n",
       "        vertical-align: middle;\n",
       "    }\n",
       "\n",
       "    .dataframe tbody tr th {\n",
       "        vertical-align: top;\n",
       "    }\n",
       "\n",
       "    .dataframe thead th {\n",
       "        text-align: right;\n",
       "    }\n",
       "</style>\n",
       "<table border=\"1\" class=\"dataframe\">\n",
       "  <thead>\n",
       "    <tr style=\"text-align: right;\">\n",
       "      <th></th>\n",
       "      <th>Datetime</th>\n",
       "      <th>PJME_MW</th>\n",
       "    </tr>\n",
       "  </thead>\n",
       "  <tbody>\n",
       "    <tr>\n",
       "      <th>0</th>\n",
       "      <td>2002-12-31 01:00:00</td>\n",
       "      <td>26498.0</td>\n",
       "    </tr>\n",
       "    <tr>\n",
       "      <th>1</th>\n",
       "      <td>2002-12-31 02:00:00</td>\n",
       "      <td>25147.0</td>\n",
       "    </tr>\n",
       "    <tr>\n",
       "      <th>2</th>\n",
       "      <td>2002-12-31 03:00:00</td>\n",
       "      <td>24574.0</td>\n",
       "    </tr>\n",
       "    <tr>\n",
       "      <th>3</th>\n",
       "      <td>2002-12-31 04:00:00</td>\n",
       "      <td>24393.0</td>\n",
       "    </tr>\n",
       "    <tr>\n",
       "      <th>4</th>\n",
       "      <td>2002-12-31 05:00:00</td>\n",
       "      <td>24860.0</td>\n",
       "    </tr>\n",
       "    <tr>\n",
       "      <th>5</th>\n",
       "      <td>2002-12-31 06:00:00</td>\n",
       "      <td>26222.0</td>\n",
       "    </tr>\n",
       "    <tr>\n",
       "      <th>6</th>\n",
       "      <td>2002-12-31 07:00:00</td>\n",
       "      <td>28702.0</td>\n",
       "    </tr>\n",
       "    <tr>\n",
       "      <th>7</th>\n",
       "      <td>2002-12-31 08:00:00</td>\n",
       "      <td>30698.0</td>\n",
       "    </tr>\n",
       "    <tr>\n",
       "      <th>8</th>\n",
       "      <td>2002-12-31 09:00:00</td>\n",
       "      <td>31800.0</td>\n",
       "    </tr>\n",
       "    <tr>\n",
       "      <th>9</th>\n",
       "      <td>2002-12-31 10:00:00</td>\n",
       "      <td>32359.0</td>\n",
       "    </tr>\n",
       "  </tbody>\n",
       "</table>\n",
       "</div>"
      ],
      "text/plain": [
       "              Datetime  PJME_MW\n",
       "0  2002-12-31 01:00:00  26498.0\n",
       "1  2002-12-31 02:00:00  25147.0\n",
       "2  2002-12-31 03:00:00  24574.0\n",
       "3  2002-12-31 04:00:00  24393.0\n",
       "4  2002-12-31 05:00:00  24860.0\n",
       "5  2002-12-31 06:00:00  26222.0\n",
       "6  2002-12-31 07:00:00  28702.0\n",
       "7  2002-12-31 08:00:00  30698.0\n",
       "8  2002-12-31 09:00:00  31800.0\n",
       "9  2002-12-31 10:00:00  32359.0"
      ]
     },
     "execution_count": 4,
     "metadata": {},
     "output_type": "execute_result"
    }
   ],
   "source": [
    "## Top rows of data\n",
    "df.head(10)"
   ]
  },
  {
   "cell_type": "code",
   "execution_count": 5,
   "metadata": {},
   "outputs": [
    {
     "data": {
      "text/plain": [
       "Datetime    2018-08-03 00:00:00\n",
       "PJME_MW                 62009.0\n",
       "dtype: object"
      ]
     },
     "execution_count": 5,
     "metadata": {},
     "output_type": "execute_result"
    }
   ],
   "source": [
    "## Last date of data\n",
    "df.max()"
   ]
  },
  {
   "cell_type": "markdown",
   "metadata": {},
   "source": [
    "### Format of Code"
   ]
  },
  {
   "cell_type": "raw",
   "metadata": {},
   "source": [
    "forecast table, metrics = generateGradientBoostingForecast(\n",
    "    data,                      # The DataFrame containing your time series data.\n",
    "    date,                      # The name of the column in 'data' that contains the time component.\n",
    "    value,                     # The name of the column in 'data' that contains the value to forecast.\n",
    "    group=None,                # Optional: A tuple for filtering data by a certain group (column name, value).\n",
    "    forecast_horizon=365,      # Optional: Number of periods to forecast into the future.\n",
    "    frequency='D',             # Optional: Frequency of the time series data ('D' for daily, etc.).\n",
    "    train_size=0.8,            # Optional: Proportion of data to use for training (e.g., 0.8 for 80%).\n",
    "    make_stationary_flag=False,# Optional: Whether to apply differencing to make the series stationary.\n",
    "    remove_seasonality_flag=False, # Optional: Whether to remove seasonality from the time series.\n",
    "    hyperparameters=None,      # Optional: A dictionary of hyperparameters for the XGBoost model.\n",
    "    confidence_level=0.95      # Optional: Confidence level for the prediction intervals.\n",
    ")\n",
    "\n",
    "\n",
    "Also, \n",
    "\n",
    "custom_parameters = {\n",
    "    'n_estimators': 100,       # Number of boosting stages to be run. More stages increase accuracy but also risk of overfitting.\n",
    "    'learning_rate': 0.1,      # Learning rate shrinks the contribution of each tree. A smaller value requires more trees but can lead to better performance.\n",
    "    'max_depth': 3,            # Maximum depth of the individual regression estimators. Controls the depth of each tree.\n",
    "    'min_samples_split': 2,    # Minimum number of samples required to split an internal node. Can be used to control overfitting.\n",
    "    'min_samples_leaf': 1,     # Minimum number of samples required to be at a leaf node. Prevents creating leaves with few samples, helping to reduce overfitting.\n",
    "    'max_features': None,      # Number of features to consider when looking for the best split. 'None' means all features are considered.\n",
    "    'subsample': 1.0,          # Fraction of samples to be used for fitting individual base learners. A value of 1.0 means that all samples are used.\n",
    "    'random_state': 42         # Seed for the random number generator. Ensures reproducibility of results.\n",
    "}\n",
    "\n",
    "\n",
    "forecast table, metrics = generateGradientBoostingForecast(\n",
    "    data,\n",
    "    date,\n",
    "    value,\n",
    "    hyperparameters=custom_hyperparameters\n",
    "    # other parameters...\n",
    ")\n"
   ]
  },
  {
   "cell_type": "code",
   "execution_count": 8,
   "metadata": {},
   "outputs": [],
   "source": [
    "### Example usage"
   ]
  },
  {
   "cell_type": "code",
   "execution_count": 5,
   "metadata": {},
   "outputs": [
    {
     "name": "stdout",
     "output_type": "stream",
     "text": [
      "INFO: The time series is stationary. Model results might be reliable.\n",
      "INFO: Significant seasonality detected in the time series data.\n"
     ]
    }
   ],
   "source": [
    "# Example usage\n",
    "# Assuming 'df' is your DataFrame, 'date' is the name of your date column, and 'value' is the name of your value column\n",
    "forecast_table, metrics = generateGradientBoostingForecast(df, 'Datetime', 'PJME_MW', forecast_horizon=24*7, \n",
    "                                                  frequency='H', train_size=0.8, confidence_level=0.95, \n",
    "                                                  make_stationary_flag=False, remove_seasonality_flag=False)"
   ]
  },
  {
   "cell_type": "code",
   "execution_count": 6,
   "metadata": {},
   "outputs": [
    {
     "data": {
      "text/html": [
       "<div>\n",
       "<style scoped>\n",
       "    .dataframe tbody tr th:only-of-type {\n",
       "        vertical-align: middle;\n",
       "    }\n",
       "\n",
       "    .dataframe tbody tr th {\n",
       "        vertical-align: top;\n",
       "    }\n",
       "\n",
       "    .dataframe thead th {\n",
       "        text-align: right;\n",
       "    }\n",
       "</style>\n",
       "<table border=\"1\" class=\"dataframe\">\n",
       "  <thead>\n",
       "    <tr style=\"text-align: right;\">\n",
       "      <th></th>\n",
       "      <th>Date</th>\n",
       "      <th>Forecast</th>\n",
       "      <th>Lower_Bound</th>\n",
       "      <th>Upper_Bound</th>\n",
       "    </tr>\n",
       "  </thead>\n",
       "  <tbody>\n",
       "    <tr>\n",
       "      <th>0</th>\n",
       "      <td>2018-08-03 01:00:00</td>\n",
       "      <td>29084.438392</td>\n",
       "      <td>22763.293726</td>\n",
       "      <td>38553.938923</td>\n",
       "    </tr>\n",
       "    <tr>\n",
       "      <th>1</th>\n",
       "      <td>2018-08-03 02:00:00</td>\n",
       "      <td>27745.644985</td>\n",
       "      <td>21424.500319</td>\n",
       "      <td>37215.145515</td>\n",
       "    </tr>\n",
       "    <tr>\n",
       "      <th>2</th>\n",
       "      <td>2018-08-03 03:00:00</td>\n",
       "      <td>27185.365700</td>\n",
       "      <td>20864.221033</td>\n",
       "      <td>36654.866230</td>\n",
       "    </tr>\n",
       "    <tr>\n",
       "      <th>3</th>\n",
       "      <td>2018-08-03 04:00:00</td>\n",
       "      <td>27185.365700</td>\n",
       "      <td>20864.221033</td>\n",
       "      <td>36654.866230</td>\n",
       "    </tr>\n",
       "    <tr>\n",
       "      <th>4</th>\n",
       "      <td>2018-08-03 05:00:00</td>\n",
       "      <td>27185.365700</td>\n",
       "      <td>20864.221033</td>\n",
       "      <td>36654.866230</td>\n",
       "    </tr>\n",
       "    <tr>\n",
       "      <th>...</th>\n",
       "      <td>...</td>\n",
       "      <td>...</td>\n",
       "      <td>...</td>\n",
       "      <td>...</td>\n",
       "    </tr>\n",
       "    <tr>\n",
       "      <th>163</th>\n",
       "      <td>2018-08-09 20:00:00</td>\n",
       "      <td>42323.000043</td>\n",
       "      <td>36001.855377</td>\n",
       "      <td>51792.500573</td>\n",
       "    </tr>\n",
       "    <tr>\n",
       "      <th>164</th>\n",
       "      <td>2018-08-09 21:00:00</td>\n",
       "      <td>42107.202460</td>\n",
       "      <td>35786.057793</td>\n",
       "      <td>51576.702990</td>\n",
       "    </tr>\n",
       "    <tr>\n",
       "      <th>165</th>\n",
       "      <td>2018-08-09 22:00:00</td>\n",
       "      <td>40478.097294</td>\n",
       "      <td>34156.952628</td>\n",
       "      <td>49947.597825</td>\n",
       "    </tr>\n",
       "    <tr>\n",
       "      <th>166</th>\n",
       "      <td>2018-08-09 23:00:00</td>\n",
       "      <td>37569.080095</td>\n",
       "      <td>31247.935428</td>\n",
       "      <td>47038.580625</td>\n",
       "    </tr>\n",
       "    <tr>\n",
       "      <th>167</th>\n",
       "      <td>2018-08-10 00:00:00</td>\n",
       "      <td>31653.147996</td>\n",
       "      <td>25332.003330</td>\n",
       "      <td>41122.648526</td>\n",
       "    </tr>\n",
       "  </tbody>\n",
       "</table>\n",
       "<p>168 rows × 4 columns</p>\n",
       "</div>"
      ],
      "text/plain": [
       "                   Date      Forecast   Lower_Bound   Upper_Bound\n",
       "0   2018-08-03 01:00:00  29084.438392  22763.293726  38553.938923\n",
       "1   2018-08-03 02:00:00  27745.644985  21424.500319  37215.145515\n",
       "2   2018-08-03 03:00:00  27185.365700  20864.221033  36654.866230\n",
       "3   2018-08-03 04:00:00  27185.365700  20864.221033  36654.866230\n",
       "4   2018-08-03 05:00:00  27185.365700  20864.221033  36654.866230\n",
       "..                  ...           ...           ...           ...\n",
       "163 2018-08-09 20:00:00  42323.000043  36001.855377  51792.500573\n",
       "164 2018-08-09 21:00:00  42107.202460  35786.057793  51576.702990\n",
       "165 2018-08-09 22:00:00  40478.097294  34156.952628  49947.597825\n",
       "166 2018-08-09 23:00:00  37569.080095  31247.935428  47038.580625\n",
       "167 2018-08-10 00:00:00  31653.147996  25332.003330  41122.648526\n",
       "\n",
       "[168 rows x 4 columns]"
      ]
     },
     "execution_count": 6,
     "metadata": {},
     "output_type": "execute_result"
    }
   ],
   "source": [
    "forecast_table"
   ]
  },
  {
   "cell_type": "code",
   "execution_count": 7,
   "metadata": {},
   "outputs": [
    {
     "data": {
      "text/html": [
       "<div>\n",
       "<style scoped>\n",
       "    .dataframe tbody tr th:only-of-type {\n",
       "        vertical-align: middle;\n",
       "    }\n",
       "\n",
       "    .dataframe tbody tr th {\n",
       "        vertical-align: top;\n",
       "    }\n",
       "\n",
       "    .dataframe thead th {\n",
       "        text-align: right;\n",
       "    }\n",
       "</style>\n",
       "<table border=\"1\" class=\"dataframe\">\n",
       "  <thead>\n",
       "    <tr style=\"text-align: right;\">\n",
       "      <th></th>\n",
       "      <th>Model Metrics</th>\n",
       "      <th>Performance</th>\n",
       "    </tr>\n",
       "  </thead>\n",
       "  <tbody>\n",
       "    <tr>\n",
       "      <th>0</th>\n",
       "      <td>RMSE</td>\n",
       "      <td>3862.302637</td>\n",
       "    </tr>\n",
       "    <tr>\n",
       "      <th>1</th>\n",
       "      <td>MAE</td>\n",
       "      <td>2923.327518</td>\n",
       "    </tr>\n",
       "    <tr>\n",
       "      <th>2</th>\n",
       "      <td>MAPE</td>\n",
       "      <td>8.963424</td>\n",
       "    </tr>\n",
       "  </tbody>\n",
       "</table>\n",
       "</div>"
      ],
      "text/plain": [
       "  Model Metrics  Performance\n",
       "0          RMSE  3862.302637\n",
       "1           MAE  2923.327518\n",
       "2          MAPE     8.963424"
      ]
     },
     "execution_count": 7,
     "metadata": {},
     "output_type": "execute_result"
    }
   ],
   "source": [
    "metrics"
   ]
  }
 ],
 "metadata": {
  "kernelspec": {
   "display_name": "Python 3",
   "language": "python",
   "name": "python3"
  },
  "language_info": {
   "codemirror_mode": {
    "name": "ipython",
    "version": 3
   },
   "file_extension": ".py",
   "mimetype": "text/x-python",
   "name": "python",
   "nbconvert_exporter": "python",
   "pygments_lexer": "ipython3",
   "version": "3.12.0"
  }
 },
 "nbformat": 4,
 "nbformat_minor": 2
}
