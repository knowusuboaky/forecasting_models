{
 "cells": [
  {
   "cell_type": "markdown",
   "metadata": {},
   "source": [
    "# MLP (Multi-Layer Perceptron) Regressor #Neural Network Example"
   ]
  },
  {
   "cell_type": "markdown",
   "metadata": {},
   "source": [
    "## Installation"
   ]
  },
  {
   "cell_type": "markdown",
   "metadata": {},
   "source": [
    "### Package"
   ]
  },
  {
   "cell_type": "code",
   "execution_count": 3,
   "metadata": {},
   "outputs": [],
   "source": [
    "## Install Library\n",
    "#pip install forecasting-models https://pypi.org/project/forecasting-models/"
   ]
  },
  {
   "cell_type": "code",
   "execution_count": 9,
   "metadata": {},
   "outputs": [],
   "source": [
    "## Load up Library\n",
    "from forecasting_models import generateMLPForecast"
   ]
  },
  {
   "cell_type": "markdown",
   "metadata": {},
   "source": [
    "\n",
    "### Data Exploration"
   ]
  },
  {
   "cell_type": "code",
   "execution_count": 10,
   "metadata": {},
   "outputs": [],
   "source": [
    "## Sample Data\n",
    "\n",
    "import pandas as pd\n",
    "import numpy as np\n",
    "\n",
    "df = pd.read_csv('./data/PJME_hourly.csv')\n"
   ]
  },
  {
   "cell_type": "code",
   "execution_count": 4,
   "metadata": {},
   "outputs": [
    {
     "data": {
      "text/html": [
       "<div>\n",
       "<style scoped>\n",
       "    .dataframe tbody tr th:only-of-type {\n",
       "        vertical-align: middle;\n",
       "    }\n",
       "\n",
       "    .dataframe tbody tr th {\n",
       "        vertical-align: top;\n",
       "    }\n",
       "\n",
       "    .dataframe thead th {\n",
       "        text-align: right;\n",
       "    }\n",
       "</style>\n",
       "<table border=\"1\" class=\"dataframe\">\n",
       "  <thead>\n",
       "    <tr style=\"text-align: right;\">\n",
       "      <th></th>\n",
       "      <th>Datetime</th>\n",
       "      <th>PJME_MW</th>\n",
       "    </tr>\n",
       "  </thead>\n",
       "  <tbody>\n",
       "    <tr>\n",
       "      <th>0</th>\n",
       "      <td>2002-12-31 01:00:00</td>\n",
       "      <td>26498.0</td>\n",
       "    </tr>\n",
       "    <tr>\n",
       "      <th>1</th>\n",
       "      <td>2002-12-31 02:00:00</td>\n",
       "      <td>25147.0</td>\n",
       "    </tr>\n",
       "    <tr>\n",
       "      <th>2</th>\n",
       "      <td>2002-12-31 03:00:00</td>\n",
       "      <td>24574.0</td>\n",
       "    </tr>\n",
       "    <tr>\n",
       "      <th>3</th>\n",
       "      <td>2002-12-31 04:00:00</td>\n",
       "      <td>24393.0</td>\n",
       "    </tr>\n",
       "    <tr>\n",
       "      <th>4</th>\n",
       "      <td>2002-12-31 05:00:00</td>\n",
       "      <td>24860.0</td>\n",
       "    </tr>\n",
       "    <tr>\n",
       "      <th>5</th>\n",
       "      <td>2002-12-31 06:00:00</td>\n",
       "      <td>26222.0</td>\n",
       "    </tr>\n",
       "    <tr>\n",
       "      <th>6</th>\n",
       "      <td>2002-12-31 07:00:00</td>\n",
       "      <td>28702.0</td>\n",
       "    </tr>\n",
       "    <tr>\n",
       "      <th>7</th>\n",
       "      <td>2002-12-31 08:00:00</td>\n",
       "      <td>30698.0</td>\n",
       "    </tr>\n",
       "    <tr>\n",
       "      <th>8</th>\n",
       "      <td>2002-12-31 09:00:00</td>\n",
       "      <td>31800.0</td>\n",
       "    </tr>\n",
       "    <tr>\n",
       "      <th>9</th>\n",
       "      <td>2002-12-31 10:00:00</td>\n",
       "      <td>32359.0</td>\n",
       "    </tr>\n",
       "  </tbody>\n",
       "</table>\n",
       "</div>"
      ],
      "text/plain": [
       "              Datetime  PJME_MW\n",
       "0  2002-12-31 01:00:00  26498.0\n",
       "1  2002-12-31 02:00:00  25147.0\n",
       "2  2002-12-31 03:00:00  24574.0\n",
       "3  2002-12-31 04:00:00  24393.0\n",
       "4  2002-12-31 05:00:00  24860.0\n",
       "5  2002-12-31 06:00:00  26222.0\n",
       "6  2002-12-31 07:00:00  28702.0\n",
       "7  2002-12-31 08:00:00  30698.0\n",
       "8  2002-12-31 09:00:00  31800.0\n",
       "9  2002-12-31 10:00:00  32359.0"
      ]
     },
     "execution_count": 4,
     "metadata": {},
     "output_type": "execute_result"
    }
   ],
   "source": [
    "## Top rows of data\n",
    "df.head(10)"
   ]
  },
  {
   "cell_type": "code",
   "execution_count": 5,
   "metadata": {},
   "outputs": [
    {
     "data": {
      "text/plain": [
       "Datetime    2018-08-03 00:00:00\n",
       "PJME_MW                 62009.0\n",
       "dtype: object"
      ]
     },
     "execution_count": 5,
     "metadata": {},
     "output_type": "execute_result"
    }
   ],
   "source": [
    "## Last date of data\n",
    "df.max()"
   ]
  },
  {
   "cell_type": "markdown",
   "metadata": {},
   "source": [
    "### Format of Code"
   ]
  },
  {
   "cell_type": "code",
   "execution_count": 1,
   "metadata": {},
   "outputs": [],
   "source": [
    "#forecast table, metrics = generateMLPForecast(\n",
    "#    data,                      # The DataFrame containing your time series data.\n",
    "#    date,                      # The name of the column in 'data' that contains the time component.\n",
    "#    value,                     # The name of the column in 'data' that contains the value to forecast.\n",
    "#    group=None,                # Optional: A tuple for filtering data by a certain group (column name, value).\n",
    "#    forecast_horizon=365,      # Optional: Number of periods to forecast into the future.\n",
    "#    frequency='D',             # Optional: Frequency of the time series data ('D' for daily, etc.).\n",
    "#    train_size=0.8,            # Optional: Proportion of data to use for training (e.g., 0.8 for 80%).\n",
    "#    make_stationary_flag=False,# Optional: Whether to apply differencing to make the series stationary.\n",
    "#    remove_seasonality_flag=False, # Optional: Whether to remove seasonality from the time series.\n",
    "#    hyperparameters=None,      # Optional: A dictionary of hyperparameters for the XGBoost model.\n",
    "#    confidence_level=0.95      # Optional: Confidence level for the prediction intervals.\n",
    "#)\n",
    "\n",
    "\n",
    "#Also, \n",
    "\n",
    "#custom_hyperparameters = {\n",
    "#    'hidden_layer_sizes': (100, 50, 25),  # The size of the hidden layers. Each number represents a layer and its number of neurons.\n",
    "#    'activation': 'relu',                 # Activation function for the hidden layers. Options include 'relu', 'tanh', 'logistic', etc.\n",
    "#    'solver': 'adam',                     # The solver for weight optimization. 'adam' works well on relatively large datasets.\n",
    "#    'alpha': 0.0001,                      # L2 penalty (regularization term) parameter.\n",
    "#    'batch_size': 'auto',                 # Size of minibatches for stochastic optimizers. 'auto' sets it to min(200, n_samples).\n",
    "#    'learning_rate': 'adaptive',          # Learning rate schedule. 'adaptive' keeps the learning rate constant as long as training loss keeps decreasing.\n",
    "#    'learning_rate_init': 0.001,          # The initial learning rate used.\n",
    "#   'max_iter': 500,                      # Maximum number of iterations. The solver iterates until convergence or this number of iterations.\n",
    "#    'shuffle': True,                      # Whether to shuffle samples in each iteration.\n",
    "#    'random_state': 42,                   # The seed of the pseudo-random number generator to use when shuffling the data.\n",
    "#    'tol': 1e-4,                          # Tolerance for the optimization.\n",
    "#    'verbose': False                      # Whether to print progress messages to stdout.\n",
    "    # Add other MLP parameters as needed\n",
    "#}\n",
    "\n",
    "#forecast table, metrics = generateMLPForecast(\n",
    "#    data,\n",
    "#    date,\n",
    "#    value,\n",
    "#    hyperparameters=custom_hyperparameters\n",
    "#    # other parameters...\n",
    "#)\n"
   ]
  },
  {
   "cell_type": "code",
   "execution_count": 8,
   "metadata": {},
   "outputs": [],
   "source": [
    "### Example usage"
   ]
  },
  {
   "cell_type": "code",
   "execution_count": 6,
   "metadata": {},
   "outputs": [
    {
     "name": "stdout",
     "output_type": "stream",
     "text": [
      "INFO: The time series is stationary. Model results might be reliable.\n",
      "INFO: Significant seasonality detected in the time series data.\n"
     ]
    },
    {
     "name": "stderr",
     "output_type": "stream",
     "text": [
      "c:\\Users\\kwadw.DESKTOP-T9BSTPE\\AppData\\Local\\Programs\\Python\\Python312\\Lib\\site-packages\\sklearn\\neural_network\\_multilayer_perceptron.py:691: ConvergenceWarning: Stochastic Optimizer: Maximum iterations (200) reached and the optimization hasn't converged yet.\n",
      "  warnings.warn(\n"
     ]
    }
   ],
   "source": [
    "# Example usage\n",
    "# Assuming 'df' is your DataFrame, 'date' is the name of your date column, and 'value' is the name of your value column\n",
    "forecast_table, metrics = generateMLPForecast(df, 'Datetime', 'PJME_MW', forecast_horizon=24*7, \n",
    "                                                  frequency='H', train_size=0.8, confidence_level=0.95, \n",
    "                                                  make_stationary_flag=False, remove_seasonality_flag=False)"
   ]
  },
  {
   "cell_type": "code",
   "execution_count": 7,
   "metadata": {},
   "outputs": [
    {
     "data": {
      "text/html": [
       "<div>\n",
       "<style scoped>\n",
       "    .dataframe tbody tr th:only-of-type {\n",
       "        vertical-align: middle;\n",
       "    }\n",
       "\n",
       "    .dataframe tbody tr th {\n",
       "        vertical-align: top;\n",
       "    }\n",
       "\n",
       "    .dataframe thead th {\n",
       "        text-align: right;\n",
       "    }\n",
       "</style>\n",
       "<table border=\"1\" class=\"dataframe\">\n",
       "  <thead>\n",
       "    <tr style=\"text-align: right;\">\n",
       "      <th></th>\n",
       "      <th>Date</th>\n",
       "      <th>Forecast</th>\n",
       "      <th>Lower_Bound</th>\n",
       "      <th>Upper_Bound</th>\n",
       "    </tr>\n",
       "  </thead>\n",
       "  <tbody>\n",
       "    <tr>\n",
       "      <th>0</th>\n",
       "      <td>2018-08-03 01:00:00</td>\n",
       "      <td>25471.212609</td>\n",
       "      <td>16908.389847</td>\n",
       "      <td>38954.264152</td>\n",
       "    </tr>\n",
       "    <tr>\n",
       "      <th>1</th>\n",
       "      <td>2018-08-03 02:00:00</td>\n",
       "      <td>25908.965040</td>\n",
       "      <td>17346.142278</td>\n",
       "      <td>39392.016583</td>\n",
       "    </tr>\n",
       "    <tr>\n",
       "      <th>2</th>\n",
       "      <td>2018-08-03 03:00:00</td>\n",
       "      <td>26346.717471</td>\n",
       "      <td>17783.894708</td>\n",
       "      <td>39829.769014</td>\n",
       "    </tr>\n",
       "    <tr>\n",
       "      <th>3</th>\n",
       "      <td>2018-08-03 04:00:00</td>\n",
       "      <td>26784.469901</td>\n",
       "      <td>18221.647139</td>\n",
       "      <td>40267.521444</td>\n",
       "    </tr>\n",
       "    <tr>\n",
       "      <th>4</th>\n",
       "      <td>2018-08-03 05:00:00</td>\n",
       "      <td>27222.222332</td>\n",
       "      <td>18659.399570</td>\n",
       "      <td>40705.273875</td>\n",
       "    </tr>\n",
       "    <tr>\n",
       "      <th>...</th>\n",
       "      <td>...</td>\n",
       "      <td>...</td>\n",
       "      <td>...</td>\n",
       "      <td>...</td>\n",
       "    </tr>\n",
       "    <tr>\n",
       "      <th>163</th>\n",
       "      <td>2018-08-09 20:00:00</td>\n",
       "      <td>34948.910911</td>\n",
       "      <td>26386.088149</td>\n",
       "      <td>48431.962454</td>\n",
       "    </tr>\n",
       "    <tr>\n",
       "      <th>164</th>\n",
       "      <td>2018-08-09 21:00:00</td>\n",
       "      <td>35426.110871</td>\n",
       "      <td>26863.288109</td>\n",
       "      <td>48909.162414</td>\n",
       "    </tr>\n",
       "    <tr>\n",
       "      <th>165</th>\n",
       "      <td>2018-08-09 22:00:00</td>\n",
       "      <td>35903.310831</td>\n",
       "      <td>27340.488068</td>\n",
       "      <td>49386.362374</td>\n",
       "    </tr>\n",
       "    <tr>\n",
       "      <th>166</th>\n",
       "      <td>2018-08-09 23:00:00</td>\n",
       "      <td>36384.518447</td>\n",
       "      <td>27821.695684</td>\n",
       "      <td>49867.569990</td>\n",
       "    </tr>\n",
       "    <tr>\n",
       "      <th>167</th>\n",
       "      <td>2018-08-10 00:00:00</td>\n",
       "      <td>25054.744567</td>\n",
       "      <td>16491.921805</td>\n",
       "      <td>38537.796110</td>\n",
       "    </tr>\n",
       "  </tbody>\n",
       "</table>\n",
       "<p>168 rows × 4 columns</p>\n",
       "</div>"
      ],
      "text/plain": [
       "                   Date      Forecast   Lower_Bound   Upper_Bound\n",
       "0   2018-08-03 01:00:00  25471.212609  16908.389847  38954.264152\n",
       "1   2018-08-03 02:00:00  25908.965040  17346.142278  39392.016583\n",
       "2   2018-08-03 03:00:00  26346.717471  17783.894708  39829.769014\n",
       "3   2018-08-03 04:00:00  26784.469901  18221.647139  40267.521444\n",
       "4   2018-08-03 05:00:00  27222.222332  18659.399570  40705.273875\n",
       "..                  ...           ...           ...           ...\n",
       "163 2018-08-09 20:00:00  34948.910911  26386.088149  48431.962454\n",
       "164 2018-08-09 21:00:00  35426.110871  26863.288109  48909.162414\n",
       "165 2018-08-09 22:00:00  35903.310831  27340.488068  49386.362374\n",
       "166 2018-08-09 23:00:00  36384.518447  27821.695684  49867.569990\n",
       "167 2018-08-10 00:00:00  25054.744567  16491.921805  38537.796110\n",
       "\n",
       "[168 rows x 4 columns]"
      ]
     },
     "execution_count": 7,
     "metadata": {},
     "output_type": "execute_result"
    }
   ],
   "source": [
    "forecast_table"
   ]
  },
  {
   "cell_type": "code",
   "execution_count": 8,
   "metadata": {},
   "outputs": [
    {
     "data": {
      "text/html": [
       "<div>\n",
       "<style scoped>\n",
       "    .dataframe tbody tr th:only-of-type {\n",
       "        vertical-align: middle;\n",
       "    }\n",
       "\n",
       "    .dataframe tbody tr th {\n",
       "        vertical-align: top;\n",
       "    }\n",
       "\n",
       "    .dataframe thead th {\n",
       "        text-align: right;\n",
       "    }\n",
       "</style>\n",
       "<table border=\"1\" class=\"dataframe\">\n",
       "  <thead>\n",
       "    <tr style=\"text-align: right;\">\n",
       "      <th></th>\n",
       "      <th>Model Metrics</th>\n",
       "      <th>Performance</th>\n",
       "    </tr>\n",
       "  </thead>\n",
       "  <tbody>\n",
       "    <tr>\n",
       "      <th>0</th>\n",
       "      <td>RMSE</td>\n",
       "      <td>5710.289250</td>\n",
       "    </tr>\n",
       "    <tr>\n",
       "      <th>1</th>\n",
       "      <td>MAE</td>\n",
       "      <td>4554.123615</td>\n",
       "    </tr>\n",
       "    <tr>\n",
       "      <th>2</th>\n",
       "      <td>MAPE</td>\n",
       "      <td>14.489361</td>\n",
       "    </tr>\n",
       "  </tbody>\n",
       "</table>\n",
       "</div>"
      ],
      "text/plain": [
       "  Model Metrics  Performance\n",
       "0          RMSE  5710.289250\n",
       "1           MAE  4554.123615\n",
       "2          MAPE    14.489361"
      ]
     },
     "execution_count": 8,
     "metadata": {},
     "output_type": "execute_result"
    }
   ],
   "source": [
    "metrics"
   ]
  }
 ],
 "metadata": {
  "kernelspec": {
   "display_name": "Python 3",
   "language": "python",
   "name": "python3"
  },
  "language_info": {
   "codemirror_mode": {
    "name": "ipython",
    "version": 3
   },
   "file_extension": ".py",
   "mimetype": "text/x-python",
   "name": "python",
   "nbconvert_exporter": "python",
   "pygments_lexer": "ipython3",
   "version": "3.12.0"
  }
 },
 "nbformat": 4,
 "nbformat_minor": 2
}
