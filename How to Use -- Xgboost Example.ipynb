{
 "cells": [
  {
   "cell_type": "markdown",
   "metadata": {},
   "source": [
    "# XGBoost Example"
   ]
  },
  {
   "cell_type": "markdown",
   "metadata": {},
   "source": [
    "## Installation"
   ]
  },
  {
   "cell_type": "markdown",
   "metadata": {},
   "source": [
    "### Package"
   ]
  },
  {
   "cell_type": "code",
   "execution_count": 3,
   "metadata": {},
   "outputs": [],
   "source": [
    "## Install Library\n",
    "#pip install forecasting-models https://pypi.org/project/forecasting-models/"
   ]
  },
  {
   "cell_type": "code",
   "execution_count": 9,
   "metadata": {},
   "outputs": [],
   "source": [
    "## Load up Library\n",
    "from forecasting_models import generateXGBoostForecast"
   ]
  },
  {
   "cell_type": "markdown",
   "metadata": {},
   "source": [
    "\n",
    "### Data Exploration"
   ]
  },
  {
   "cell_type": "code",
   "execution_count": 3,
   "metadata": {},
   "outputs": [],
   "source": [
    "## Sample Data\n",
    "\n",
    "import pandas as pd\n",
    "import numpy as np\n",
    "\n",
    "df = pd.read_csv('./data/PJME_hourly.csv')\n"
   ]
  },
  {
   "cell_type": "code",
   "execution_count": 4,
   "metadata": {},
   "outputs": [
    {
     "data": {
      "text/html": [
       "<div>\n",
       "<style scoped>\n",
       "    .dataframe tbody tr th:only-of-type {\n",
       "        vertical-align: middle;\n",
       "    }\n",
       "\n",
       "    .dataframe tbody tr th {\n",
       "        vertical-align: top;\n",
       "    }\n",
       "\n",
       "    .dataframe thead th {\n",
       "        text-align: right;\n",
       "    }\n",
       "</style>\n",
       "<table border=\"1\" class=\"dataframe\">\n",
       "  <thead>\n",
       "    <tr style=\"text-align: right;\">\n",
       "      <th></th>\n",
       "      <th>Datetime</th>\n",
       "      <th>PJME_MW</th>\n",
       "    </tr>\n",
       "  </thead>\n",
       "  <tbody>\n",
       "    <tr>\n",
       "      <th>0</th>\n",
       "      <td>2002-12-31 01:00:00</td>\n",
       "      <td>26498.0</td>\n",
       "    </tr>\n",
       "    <tr>\n",
       "      <th>1</th>\n",
       "      <td>2002-12-31 02:00:00</td>\n",
       "      <td>25147.0</td>\n",
       "    </tr>\n",
       "    <tr>\n",
       "      <th>2</th>\n",
       "      <td>2002-12-31 03:00:00</td>\n",
       "      <td>24574.0</td>\n",
       "    </tr>\n",
       "    <tr>\n",
       "      <th>3</th>\n",
       "      <td>2002-12-31 04:00:00</td>\n",
       "      <td>24393.0</td>\n",
       "    </tr>\n",
       "    <tr>\n",
       "      <th>4</th>\n",
       "      <td>2002-12-31 05:00:00</td>\n",
       "      <td>24860.0</td>\n",
       "    </tr>\n",
       "    <tr>\n",
       "      <th>5</th>\n",
       "      <td>2002-12-31 06:00:00</td>\n",
       "      <td>26222.0</td>\n",
       "    </tr>\n",
       "    <tr>\n",
       "      <th>6</th>\n",
       "      <td>2002-12-31 07:00:00</td>\n",
       "      <td>28702.0</td>\n",
       "    </tr>\n",
       "    <tr>\n",
       "      <th>7</th>\n",
       "      <td>2002-12-31 08:00:00</td>\n",
       "      <td>30698.0</td>\n",
       "    </tr>\n",
       "    <tr>\n",
       "      <th>8</th>\n",
       "      <td>2002-12-31 09:00:00</td>\n",
       "      <td>31800.0</td>\n",
       "    </tr>\n",
       "    <tr>\n",
       "      <th>9</th>\n",
       "      <td>2002-12-31 10:00:00</td>\n",
       "      <td>32359.0</td>\n",
       "    </tr>\n",
       "  </tbody>\n",
       "</table>\n",
       "</div>"
      ],
      "text/plain": [
       "              Datetime  PJME_MW\n",
       "0  2002-12-31 01:00:00  26498.0\n",
       "1  2002-12-31 02:00:00  25147.0\n",
       "2  2002-12-31 03:00:00  24574.0\n",
       "3  2002-12-31 04:00:00  24393.0\n",
       "4  2002-12-31 05:00:00  24860.0\n",
       "5  2002-12-31 06:00:00  26222.0\n",
       "6  2002-12-31 07:00:00  28702.0\n",
       "7  2002-12-31 08:00:00  30698.0\n",
       "8  2002-12-31 09:00:00  31800.0\n",
       "9  2002-12-31 10:00:00  32359.0"
      ]
     },
     "execution_count": 4,
     "metadata": {},
     "output_type": "execute_result"
    }
   ],
   "source": [
    "## Top rows of data\n",
    "df.head(10)"
   ]
  },
  {
   "cell_type": "code",
   "execution_count": 7,
   "metadata": {},
   "outputs": [
    {
     "data": {
      "text/plain": [
       "Datetime    2018-08-03 00:00:00\n",
       "PJME_MW                 62009.0\n",
       "dtype: object"
      ]
     },
     "execution_count": 7,
     "metadata": {},
     "output_type": "execute_result"
    }
   ],
   "source": [
    "## Last date of data\n",
    "df.max()"
   ]
  },
  {
   "cell_type": "markdown",
   "metadata": {},
   "source": [
    "### Format of Code"
   ]
  },
  {
   "cell_type": "code",
   "execution_count": 2,
   "metadata": {},
   "outputs": [],
   "source": [
    "#forecast table, metrics = generateXGBoostForecast(\n",
    "#    data,                      # The DataFrame containing your time series data.\n",
    "#    date,                      # The name of the column in 'data' that contains the time component.\n",
    "#    value,                     # The name of the column in 'data' that contains the value to forecast.\n",
    "#    group=None,                # Optional: A tuple for filtering data by a certain group (column name, value).\n",
    "#    forecast_horizon=365,      # Optional: Number of periods to forecast into the future.\n",
    "#    frequency='D',             # Optional: Frequency of the time series data ('D' for daily, etc.).\n",
    "#    train_size=0.8,            # Optional: Proportion of data to use for training (e.g., 0.8 for 80%).\n",
    "#    make_stationary_flag=False,# Optional: Whether to apply differencing to make the series stationary.\n",
    "#    remove_seasonality_flag=False, # Optional: Whether to remove seasonality from the time series.\n",
    "#    hyperparameters=None,      # Optional: A dictionary of hyperparameters for the XGBoost model.\n",
    "#    confidence_level=0.95      # Optional: Confidence level for the prediction intervals.\n",
    "#)\n",
    "\n",
    "\n",
    "#Also, \n",
    "\n",
    "#custom_hyperparameters = {\n",
    "#    'max_depth': 5,             # Maximum depth of a tree. Increasing this value will make the model more complex and more likely to overfit.\n",
    "#    'learning_rate': 0.1,       # Step size shrinkage used to prevent overfitting. Range is [0,1].\n",
    "#    'n_estimators': 100,        # Number of trees you want to build.\n",
    "#    'objective': 'reg:squarederror', # The loss function to be minimized.\n",
    "#    'booster': 'gbtree',        # Select the type of model to run at each iteration. It can be gbtree, gblinear or dart.\n",
    "#    'subsample': 0.8,           # Subsample ratio of the training instances.\n",
    "#    'colsample_bytree': 0.8,    # Subsample ratio of columns when constructing each tree.\n",
    "#    'colsample_bylevel': 0.8,   # Subsample ratio of columns for each level.\n",
    "#    'colsample_bynode': 0.8,    # Subsample ratio of columns for each split.\n",
    "#    'min_child_weight': 1,      # Minimum sum of instance weight (hessian) needed in a child.\n",
    "#    'gamma': 0,                 # Minimum loss reduction required to make a further partition on a leaf node of the tree.\n",
    "#    'alpha': 0,                 # L1 regularization term on weights.\n",
    "#    'lambda': 1,                # L2 regularization term on weights.\n",
    "#    # Add other XGBoost parameters as needed\n",
    "#}\n",
    "\n",
    "#forecast table, metrics = generateXGBoostForecast(\n",
    "#    data,\n",
    "#    date,\n",
    "#    value,\n",
    "#    hyperparameters=custom_hyperparameters\n",
    "    # other parameters...\n",
    "#)\n"
   ]
  },
  {
   "cell_type": "code",
   "execution_count": 8,
   "metadata": {},
   "outputs": [],
   "source": [
    "### Example usage"
   ]
  },
  {
   "cell_type": "code",
   "execution_count": 10,
   "metadata": {},
   "outputs": [
    {
     "name": "stdout",
     "output_type": "stream",
     "text": [
      "INFO: The time series is stationary. Model results might be reliable.\n",
      "INFO: Significant seasonality detected in the time series data.\n"
     ]
    }
   ],
   "source": [
    "# Example usage\n",
    "# Assuming 'df' is your DataFrame, 'date' is the name of your date column, and 'value' is the name of your value column\n",
    "forecast_table, metrics = generateXGBoostForecast(df, 'Datetime', 'PJME_MW', forecast_horizon=24*7, \n",
    "                                                  frequency='H', train_size=0.8, confidence_level=0.95, \n",
    "                                                  make_stationary_flag=False, remove_seasonality_flag=False)"
   ]
  },
  {
   "cell_type": "code",
   "execution_count": 11,
   "metadata": {},
   "outputs": [
    {
     "data": {
      "text/html": [
       "<div>\n",
       "<style scoped>\n",
       "    .dataframe tbody tr th:only-of-type {\n",
       "        vertical-align: middle;\n",
       "    }\n",
       "\n",
       "    .dataframe tbody tr th {\n",
       "        vertical-align: top;\n",
       "    }\n",
       "\n",
       "    .dataframe thead th {\n",
       "        text-align: right;\n",
       "    }\n",
       "</style>\n",
       "<table border=\"1\" class=\"dataframe\">\n",
       "  <thead>\n",
       "    <tr style=\"text-align: right;\">\n",
       "      <th></th>\n",
       "      <th>Date</th>\n",
       "      <th>Forecast</th>\n",
       "      <th>Lower_Bound</th>\n",
       "      <th>Upper_Bound</th>\n",
       "    </tr>\n",
       "  </thead>\n",
       "  <tbody>\n",
       "    <tr>\n",
       "      <th>0</th>\n",
       "      <td>2018-08-03 01:00:00</td>\n",
       "      <td>35566.832031</td>\n",
       "      <td>31888.216797</td>\n",
       "      <td>41138.851562</td>\n",
       "    </tr>\n",
       "    <tr>\n",
       "      <th>1</th>\n",
       "      <td>2018-08-03 02:00:00</td>\n",
       "      <td>34848.035156</td>\n",
       "      <td>31169.419922</td>\n",
       "      <td>40420.054688</td>\n",
       "    </tr>\n",
       "    <tr>\n",
       "      <th>2</th>\n",
       "      <td>2018-08-03 03:00:00</td>\n",
       "      <td>34865.734375</td>\n",
       "      <td>31187.119141</td>\n",
       "      <td>40437.753906</td>\n",
       "    </tr>\n",
       "    <tr>\n",
       "      <th>3</th>\n",
       "      <td>2018-08-03 04:00:00</td>\n",
       "      <td>34782.781250</td>\n",
       "      <td>31104.166016</td>\n",
       "      <td>40354.800781</td>\n",
       "    </tr>\n",
       "    <tr>\n",
       "      <th>4</th>\n",
       "      <td>2018-08-03 05:00:00</td>\n",
       "      <td>35085.515625</td>\n",
       "      <td>31406.900391</td>\n",
       "      <td>40657.535156</td>\n",
       "    </tr>\n",
       "    <tr>\n",
       "      <th>...</th>\n",
       "      <td>...</td>\n",
       "      <td>...</td>\n",
       "      <td>...</td>\n",
       "      <td>...</td>\n",
       "    </tr>\n",
       "    <tr>\n",
       "      <th>163</th>\n",
       "      <td>2018-08-09 20:00:00</td>\n",
       "      <td>34671.121094</td>\n",
       "      <td>30992.505859</td>\n",
       "      <td>40243.140625</td>\n",
       "    </tr>\n",
       "    <tr>\n",
       "      <th>164</th>\n",
       "      <td>2018-08-09 21:00:00</td>\n",
       "      <td>33599.527344</td>\n",
       "      <td>29920.912109</td>\n",
       "      <td>39171.546875</td>\n",
       "    </tr>\n",
       "    <tr>\n",
       "      <th>165</th>\n",
       "      <td>2018-08-09 22:00:00</td>\n",
       "      <td>31575.371094</td>\n",
       "      <td>27896.755859</td>\n",
       "      <td>37147.390625</td>\n",
       "    </tr>\n",
       "    <tr>\n",
       "      <th>166</th>\n",
       "      <td>2018-08-09 23:00:00</td>\n",
       "      <td>29729.650391</td>\n",
       "      <td>26051.035156</td>\n",
       "      <td>35301.671875</td>\n",
       "    </tr>\n",
       "    <tr>\n",
       "      <th>167</th>\n",
       "      <td>2018-08-10 00:00:00</td>\n",
       "      <td>25890.509766</td>\n",
       "      <td>22211.894531</td>\n",
       "      <td>31462.529297</td>\n",
       "    </tr>\n",
       "  </tbody>\n",
       "</table>\n",
       "<p>168 rows × 4 columns</p>\n",
       "</div>"
      ],
      "text/plain": [
       "                   Date      Forecast   Lower_Bound   Upper_Bound\n",
       "0   2018-08-03 01:00:00  35566.832031  31888.216797  41138.851562\n",
       "1   2018-08-03 02:00:00  34848.035156  31169.419922  40420.054688\n",
       "2   2018-08-03 03:00:00  34865.734375  31187.119141  40437.753906\n",
       "3   2018-08-03 04:00:00  34782.781250  31104.166016  40354.800781\n",
       "4   2018-08-03 05:00:00  35085.515625  31406.900391  40657.535156\n",
       "..                  ...           ...           ...           ...\n",
       "163 2018-08-09 20:00:00  34671.121094  30992.505859  40243.140625\n",
       "164 2018-08-09 21:00:00  33599.527344  29920.912109  39171.546875\n",
       "165 2018-08-09 22:00:00  31575.371094  27896.755859  37147.390625\n",
       "166 2018-08-09 23:00:00  29729.650391  26051.035156  35301.671875\n",
       "167 2018-08-10 00:00:00  25890.509766  22211.894531  31462.529297\n",
       "\n",
       "[168 rows x 4 columns]"
      ]
     },
     "execution_count": 11,
     "metadata": {},
     "output_type": "execute_result"
    }
   ],
   "source": [
    "forecast_table"
   ]
  },
  {
   "cell_type": "code",
   "execution_count": 12,
   "metadata": {},
   "outputs": [
    {
     "data": {
      "text/html": [
       "<div>\n",
       "<style scoped>\n",
       "    .dataframe tbody tr th:only-of-type {\n",
       "        vertical-align: middle;\n",
       "    }\n",
       "\n",
       "    .dataframe tbody tr th {\n",
       "        vertical-align: top;\n",
       "    }\n",
       "\n",
       "    .dataframe thead th {\n",
       "        text-align: right;\n",
       "    }\n",
       "</style>\n",
       "<table border=\"1\" class=\"dataframe\">\n",
       "  <thead>\n",
       "    <tr style=\"text-align: right;\">\n",
       "      <th></th>\n",
       "      <th>Model Metrics</th>\n",
       "      <th>Performance</th>\n",
       "    </tr>\n",
       "  </thead>\n",
       "  <tbody>\n",
       "    <tr>\n",
       "      <th>0</th>\n",
       "      <td>RMSE</td>\n",
       "      <td>2283.305275</td>\n",
       "    </tr>\n",
       "    <tr>\n",
       "      <th>1</th>\n",
       "      <td>MAE</td>\n",
       "      <td>1643.021246</td>\n",
       "    </tr>\n",
       "    <tr>\n",
       "      <th>2</th>\n",
       "      <td>MAPE</td>\n",
       "      <td>5.139411</td>\n",
       "    </tr>\n",
       "  </tbody>\n",
       "</table>\n",
       "</div>"
      ],
      "text/plain": [
       "  Model Metrics  Performance\n",
       "0          RMSE  2283.305275\n",
       "1           MAE  1643.021246\n",
       "2          MAPE     5.139411"
      ]
     },
     "execution_count": 12,
     "metadata": {},
     "output_type": "execute_result"
    }
   ],
   "source": [
    "metrics"
   ]
  }
 ],
 "metadata": {
  "kernelspec": {
   "display_name": "Python 3",
   "language": "python",
   "name": "python3"
  },
  "language_info": {
   "codemirror_mode": {
    "name": "ipython",
    "version": 3
   },
   "file_extension": ".py",
   "mimetype": "text/x-python",
   "name": "python",
   "nbconvert_exporter": "python",
   "pygments_lexer": "ipython3",
   "version": "3.12.0"
  }
 },
 "nbformat": 4,
 "nbformat_minor": 2
}
