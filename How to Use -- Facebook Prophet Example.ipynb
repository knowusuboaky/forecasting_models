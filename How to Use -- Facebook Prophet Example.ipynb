{
 "cells": [
  {
   "cell_type": "markdown",
   "metadata": {},
   "source": [
    "# Facebook Prophet Example"
   ]
  },
  {
   "cell_type": "markdown",
   "metadata": {},
   "source": [
    "## Installation"
   ]
  },
  {
   "cell_type": "markdown",
   "metadata": {},
   "source": [
    "### Package"
   ]
  },
  {
   "cell_type": "code",
   "execution_count": 3,
   "metadata": {},
   "outputs": [],
   "source": [
    "## Install Library\n",
    "#pip install forecasting-models https://pypi.org/project/forecasting-models/"
   ]
  },
  {
   "cell_type": "code",
   "execution_count": 4,
   "metadata": {},
   "outputs": [],
   "source": [
    "## Load up Library\n",
    "from forecasting_models import generateProphetForecast"
   ]
  },
  {
   "cell_type": "markdown",
   "metadata": {},
   "source": [
    "\n",
    "### Data Exploration"
   ]
  },
  {
   "cell_type": "code",
   "execution_count": 5,
   "metadata": {},
   "outputs": [],
   "source": [
    "## Sample Data\n",
    "\n",
    "import pandas as pd\n",
    "import numpy as np\n",
    "\n",
    "df = pd.read_csv('./data/PJME_hourly.csv')\n"
   ]
  },
  {
   "cell_type": "code",
   "execution_count": 6,
   "metadata": {},
   "outputs": [
    {
     "data": {
      "text/html": [
       "<div>\n",
       "<style scoped>\n",
       "    .dataframe tbody tr th:only-of-type {\n",
       "        vertical-align: middle;\n",
       "    }\n",
       "\n",
       "    .dataframe tbody tr th {\n",
       "        vertical-align: top;\n",
       "    }\n",
       "\n",
       "    .dataframe thead th {\n",
       "        text-align: right;\n",
       "    }\n",
       "</style>\n",
       "<table border=\"1\" class=\"dataframe\">\n",
       "  <thead>\n",
       "    <tr style=\"text-align: right;\">\n",
       "      <th></th>\n",
       "      <th>Datetime</th>\n",
       "      <th>PJME_MW</th>\n",
       "    </tr>\n",
       "  </thead>\n",
       "  <tbody>\n",
       "    <tr>\n",
       "      <th>0</th>\n",
       "      <td>2002-12-31 01:00:00</td>\n",
       "      <td>26498.0</td>\n",
       "    </tr>\n",
       "    <tr>\n",
       "      <th>1</th>\n",
       "      <td>2002-12-31 02:00:00</td>\n",
       "      <td>25147.0</td>\n",
       "    </tr>\n",
       "    <tr>\n",
       "      <th>2</th>\n",
       "      <td>2002-12-31 03:00:00</td>\n",
       "      <td>24574.0</td>\n",
       "    </tr>\n",
       "    <tr>\n",
       "      <th>3</th>\n",
       "      <td>2002-12-31 04:00:00</td>\n",
       "      <td>24393.0</td>\n",
       "    </tr>\n",
       "    <tr>\n",
       "      <th>4</th>\n",
       "      <td>2002-12-31 05:00:00</td>\n",
       "      <td>24860.0</td>\n",
       "    </tr>\n",
       "    <tr>\n",
       "      <th>5</th>\n",
       "      <td>2002-12-31 06:00:00</td>\n",
       "      <td>26222.0</td>\n",
       "    </tr>\n",
       "    <tr>\n",
       "      <th>6</th>\n",
       "      <td>2002-12-31 07:00:00</td>\n",
       "      <td>28702.0</td>\n",
       "    </tr>\n",
       "    <tr>\n",
       "      <th>7</th>\n",
       "      <td>2002-12-31 08:00:00</td>\n",
       "      <td>30698.0</td>\n",
       "    </tr>\n",
       "    <tr>\n",
       "      <th>8</th>\n",
       "      <td>2002-12-31 09:00:00</td>\n",
       "      <td>31800.0</td>\n",
       "    </tr>\n",
       "    <tr>\n",
       "      <th>9</th>\n",
       "      <td>2002-12-31 10:00:00</td>\n",
       "      <td>32359.0</td>\n",
       "    </tr>\n",
       "  </tbody>\n",
       "</table>\n",
       "</div>"
      ],
      "text/plain": [
       "              Datetime  PJME_MW\n",
       "0  2002-12-31 01:00:00  26498.0\n",
       "1  2002-12-31 02:00:00  25147.0\n",
       "2  2002-12-31 03:00:00  24574.0\n",
       "3  2002-12-31 04:00:00  24393.0\n",
       "4  2002-12-31 05:00:00  24860.0\n",
       "5  2002-12-31 06:00:00  26222.0\n",
       "6  2002-12-31 07:00:00  28702.0\n",
       "7  2002-12-31 08:00:00  30698.0\n",
       "8  2002-12-31 09:00:00  31800.0\n",
       "9  2002-12-31 10:00:00  32359.0"
      ]
     },
     "execution_count": 6,
     "metadata": {},
     "output_type": "execute_result"
    }
   ],
   "source": [
    "## Top rows of data\n",
    "df.head(10)"
   ]
  },
  {
   "cell_type": "code",
   "execution_count": 7,
   "metadata": {},
   "outputs": [
    {
     "data": {
      "text/plain": [
       "Datetime    2018-08-03 00:00:00\n",
       "PJME_MW                 62009.0\n",
       "dtype: object"
      ]
     },
     "execution_count": 7,
     "metadata": {},
     "output_type": "execute_result"
    }
   ],
   "source": [
    "## Last date of data\n",
    "df.max()"
   ]
  },
  {
   "cell_type": "markdown",
   "metadata": {},
   "source": [
    "### Format of Code"
   ]
  },
  {
   "cell_type": "code",
   "execution_count": 2,
   "metadata": {},
   "outputs": [],
   "source": [
    "#forecast table, metrics = generateProphetForecast(\n",
    "#    data,                  # The DataFrame containing your time series data.\n",
    "#   date,                  # The name of the column in 'data' that contains the time component.\n",
    "#    value,                 # The name of the column in 'data' that contains the value to forecast.\n",
    "#    group=None,            # Optional: A tuple to filter the data by a certain group. \n",
    "                           # Format: ('column_name', value)\n",
    "#    include_holidays=False, # Optional: Whether to consider US Federal holidays in the model.\n",
    "#    forecast_horizon=365,  # Optional: The number of periods to forecast into the future.\n",
    "#   frequency='D',         # Optional: The frequency of the time series data ('D' for daily, etc.).\n",
    "#   train_size=0.8,        # Optional: The proportion of data to use for training (0.8 means 80%).\n",
    "#    confidence_level=0.95, # Optional: The confidence level for the predictive interval.\n",
    "#    make_stationary_flag=False, # Optional: Whether to make the time series stationary.\n",
    "#    remove_seasonality_flag=False, # Optional: Whether to remove seasonality from the time series.\n",
    "#    hyperparameters=None   # Optional: A dictionary of hyperparameters for the Prophet model.\n",
    "#)\n",
    "\n",
    "#Also, \n",
    "\n",
    "#custom_hyperparameters = {\n",
    "#    'changepoint_prior_scale': 0.05,    # Increasing it will make the trend more flexible\n",
    "#    'seasonality_prior_scale': 10.0,    # Controls the flexibility of the seasonal components\n",
    "#    'holidays_prior_scale': 10.0,       # Flexibility to fit holiday effects\n",
    "#    'seasonality_mode': 'additive',     # Can be 'additive' or 'multiplicative'\n",
    "#    'daily_seasonality': False,         # Whether to model daily seasonality\n",
    "#    'weekly_seasonality': True,         # Whether to model weekly seasonality\n",
    "#    'yearly_seasonality': True,         # Whether to model yearly seasonality\n",
    "#    'n_changepoints': 25,               # Number of potential changepoints to include\n",
    "#    'interval_width': 0.95,             # Width of the uncertainty intervals provided for the forecast\n",
    "#    'growth': 'linear',                 # Can be 'linear' or 'logistic' to specify a growth model\n",
    "    # Add other Prophet parameters as needed\n",
    "#}\n",
    "\n",
    "#forecast table, metrics = generateProphetForecast(\n",
    "#    data,\n",
    "#    date,\n",
    "#    value,\n",
    "#    hyperparameters=custom_hyperparameters\n",
    "    # other parameters...\n",
    "#)\n"
   ]
  },
  {
   "cell_type": "code",
   "execution_count": 8,
   "metadata": {},
   "outputs": [],
   "source": [
    "### Example usage"
   ]
  },
  {
   "cell_type": "code",
   "execution_count": 9,
   "metadata": {},
   "outputs": [
    {
     "name": "stdout",
     "output_type": "stream",
     "text": [
      "INFO: The time series is stationary. Model results might be reliable.\n",
      "INFO: Significant seasonality detected in the time series data.\n"
     ]
    }
   ],
   "source": [
    "# Example usage\n",
    "# Assuming 'df' is your DataFrame, 'date' is the name of your date column, and 'value' is the name of your value column\n",
    "forecast_table, metrics = generateProphetForecast(df, 'Datetime', 'PJME_MW', include_holidays=True, forecast_horizon=24*7, \n",
    "                                                  frequency='H', train_size=0.8, confidence_level=0.95, \n",
    "                                                  make_stationary_flag=False, remove_seasonality_flag=False)"
   ]
  },
  {
   "cell_type": "code",
   "execution_count": 10,
   "metadata": {},
   "outputs": [
    {
     "data": {
      "text/html": [
       "<div>\n",
       "<style scoped>\n",
       "    .dataframe tbody tr th:only-of-type {\n",
       "        vertical-align: middle;\n",
       "    }\n",
       "\n",
       "    .dataframe tbody tr th {\n",
       "        vertical-align: top;\n",
       "    }\n",
       "\n",
       "    .dataframe thead th {\n",
       "        text-align: right;\n",
       "    }\n",
       "</style>\n",
       "<table border=\"1\" class=\"dataframe\">\n",
       "  <thead>\n",
       "    <tr style=\"text-align: right;\">\n",
       "      <th></th>\n",
       "      <th>Date</th>\n",
       "      <th>Forecast</th>\n",
       "      <th>Lower_Bound</th>\n",
       "      <th>Upper_Bound</th>\n",
       "    </tr>\n",
       "  </thead>\n",
       "  <tbody>\n",
       "    <tr>\n",
       "      <th>0</th>\n",
       "      <td>2018-08-03 01:00:00</td>\n",
       "      <td>30735.907410</td>\n",
       "      <td>23463.280602</td>\n",
       "      <td>37178.150036</td>\n",
       "    </tr>\n",
       "    <tr>\n",
       "      <th>1</th>\n",
       "      <td>2018-08-03 02:00:00</td>\n",
       "      <td>29226.236320</td>\n",
       "      <td>22344.951571</td>\n",
       "      <td>36301.369548</td>\n",
       "    </tr>\n",
       "    <tr>\n",
       "      <th>2</th>\n",
       "      <td>2018-08-03 03:00:00</td>\n",
       "      <td>28344.520535</td>\n",
       "      <td>21517.444750</td>\n",
       "      <td>35475.627163</td>\n",
       "    </tr>\n",
       "    <tr>\n",
       "      <th>3</th>\n",
       "      <td>2018-08-03 04:00:00</td>\n",
       "      <td>28191.368225</td>\n",
       "      <td>21192.647241</td>\n",
       "      <td>34851.377235</td>\n",
       "    </tr>\n",
       "    <tr>\n",
       "      <th>4</th>\n",
       "      <td>2018-08-03 05:00:00</td>\n",
       "      <td>28854.880646</td>\n",
       "      <td>22156.006907</td>\n",
       "      <td>35796.309134</td>\n",
       "    </tr>\n",
       "    <tr>\n",
       "      <th>...</th>\n",
       "      <td>...</td>\n",
       "      <td>...</td>\n",
       "      <td>...</td>\n",
       "      <td>...</td>\n",
       "    </tr>\n",
       "    <tr>\n",
       "      <th>163</th>\n",
       "      <td>2018-08-09 20:00:00</td>\n",
       "      <td>38869.441687</td>\n",
       "      <td>31816.362398</td>\n",
       "      <td>46102.426626</td>\n",
       "    </tr>\n",
       "    <tr>\n",
       "      <th>164</th>\n",
       "      <td>2018-08-09 21:00:00</td>\n",
       "      <td>38092.964821</td>\n",
       "      <td>31470.184987</td>\n",
       "      <td>45192.322827</td>\n",
       "    </tr>\n",
       "    <tr>\n",
       "      <th>165</th>\n",
       "      <td>2018-08-09 22:00:00</td>\n",
       "      <td>36462.620747</td>\n",
       "      <td>29447.317159</td>\n",
       "      <td>43579.758091</td>\n",
       "    </tr>\n",
       "    <tr>\n",
       "      <th>166</th>\n",
       "      <td>2018-08-09 23:00:00</td>\n",
       "      <td>34260.943843</td>\n",
       "      <td>26893.921891</td>\n",
       "      <td>40941.804436</td>\n",
       "    </tr>\n",
       "    <tr>\n",
       "      <th>167</th>\n",
       "      <td>2018-08-10 00:00:00</td>\n",
       "      <td>31947.498054</td>\n",
       "      <td>25206.189689</td>\n",
       "      <td>38347.201060</td>\n",
       "    </tr>\n",
       "  </tbody>\n",
       "</table>\n",
       "<p>168 rows × 4 columns</p>\n",
       "</div>"
      ],
      "text/plain": [
       "                   Date      Forecast   Lower_Bound   Upper_Bound\n",
       "0   2018-08-03 01:00:00  30735.907410  23463.280602  37178.150036\n",
       "1   2018-08-03 02:00:00  29226.236320  22344.951571  36301.369548\n",
       "2   2018-08-03 03:00:00  28344.520535  21517.444750  35475.627163\n",
       "3   2018-08-03 04:00:00  28191.368225  21192.647241  34851.377235\n",
       "4   2018-08-03 05:00:00  28854.880646  22156.006907  35796.309134\n",
       "..                  ...           ...           ...           ...\n",
       "163 2018-08-09 20:00:00  38869.441687  31816.362398  46102.426626\n",
       "164 2018-08-09 21:00:00  38092.964821  31470.184987  45192.322827\n",
       "165 2018-08-09 22:00:00  36462.620747  29447.317159  43579.758091\n",
       "166 2018-08-09 23:00:00  34260.943843  26893.921891  40941.804436\n",
       "167 2018-08-10 00:00:00  31947.498054  25206.189689  38347.201060\n",
       "\n",
       "[168 rows x 4 columns]"
      ]
     },
     "execution_count": 10,
     "metadata": {},
     "output_type": "execute_result"
    }
   ],
   "source": [
    "forecast_table"
   ]
  },
  {
   "cell_type": "code",
   "execution_count": 11,
   "metadata": {},
   "outputs": [
    {
     "data": {
      "text/html": [
       "<div>\n",
       "<style scoped>\n",
       "    .dataframe tbody tr th:only-of-type {\n",
       "        vertical-align: middle;\n",
       "    }\n",
       "\n",
       "    .dataframe tbody tr th {\n",
       "        vertical-align: top;\n",
       "    }\n",
       "\n",
       "    .dataframe thead th {\n",
       "        text-align: right;\n",
       "    }\n",
       "</style>\n",
       "<table border=\"1\" class=\"dataframe\">\n",
       "  <thead>\n",
       "    <tr style=\"text-align: right;\">\n",
       "      <th></th>\n",
       "      <th>Model Metrics</th>\n",
       "      <th>Performance</th>\n",
       "    </tr>\n",
       "  </thead>\n",
       "  <tbody>\n",
       "    <tr>\n",
       "      <th>0</th>\n",
       "      <td>RMSE</td>\n",
       "      <td>7366.313113</td>\n",
       "    </tr>\n",
       "    <tr>\n",
       "      <th>1</th>\n",
       "      <td>MAE</td>\n",
       "      <td>5650.154986</td>\n",
       "    </tr>\n",
       "    <tr>\n",
       "      <th>2</th>\n",
       "      <td>MAPE</td>\n",
       "      <td>17.505494</td>\n",
       "    </tr>\n",
       "  </tbody>\n",
       "</table>\n",
       "</div>"
      ],
      "text/plain": [
       "  Model Metrics  Performance\n",
       "0          RMSE  7366.313113\n",
       "1           MAE  5650.154986\n",
       "2          MAPE    17.505494"
      ]
     },
     "execution_count": 11,
     "metadata": {},
     "output_type": "execute_result"
    }
   ],
   "source": [
    "metrics"
   ]
  }
 ],
 "metadata": {
  "kernelspec": {
   "display_name": "Python 3",
   "language": "python",
   "name": "python3"
  },
  "language_info": {
   "codemirror_mode": {
    "name": "ipython",
    "version": 3
   },
   "file_extension": ".py",
   "mimetype": "text/x-python",
   "name": "python",
   "nbconvert_exporter": "python",
   "pygments_lexer": "ipython3",
   "version": "3.12.0"
  }
 },
 "nbformat": 4,
 "nbformat_minor": 2
}
